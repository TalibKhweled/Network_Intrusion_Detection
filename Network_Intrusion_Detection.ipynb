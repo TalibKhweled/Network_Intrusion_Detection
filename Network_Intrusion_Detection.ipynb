{
 "cells": [
  {
   "cell_type": "markdown",
   "metadata": {},
   "source": [
    "# Network Intrusion Detection\n",
    "## Talib Khweled\n",
    "\n",
    "This program is intended to predict whether a TCP connection is a network intrusion or a regular connection, comparing results from both a standard fully connected neural network, or a Convolutional Neural Network\n",
    "\n",
    "The dataset used is the 10% truncated dataset from KDD Cup 1999 Dataset which can be found at: \n",
    "http://kdd.ics.uci.edu/databases/kddcup99/kddcup99.html"
   ]
  },
  {
   "cell_type": "code",
   "execution_count": 124,
   "metadata": {},
   "outputs": [],
   "source": [
    "import pandas as pd\n",
    "import seaborn as sns\n",
    "import matplotlib.pyplot as plt\n",
    "import numpy as np\n",
    "\n",
    "from IPython.display import Image\n",
    "\n",
    "from sklearn.preprocessing import OneHotEncoder, MinMaxScaler\n",
    "from sklearn.model_selection import train_test_split\n",
    "from sklearn.metrics import f1_score, recall_score, precision_score, roc_curve, confusion_matrix\n",
    "\n",
    "import tensorflow as tf\n",
    "from tensorflow.keras.models import Sequential\n",
    "from tensorflow.keras.layers import Dense, Dropout, Activation, Flatten, Conv2D, MaxPooling2D\n",
    "from tensorflow.keras.optimizers import Adadelta,Adam,RMSprop\n",
    "from tensorflow.keras.callbacks import EarlyStopping, ModelCheckpoint\n",
    "\n",
    "\n",
    "import wandb\n",
    "from wandb.keras import WandbCallback\n",
    "\n",
    "%matplotlib inline"
   ]
  },
  {
   "cell_type": "code",
   "execution_count": 16,
   "metadata": {},
   "outputs": [],
   "source": [
    "def custom_encoder(outcome):\n",
    "    if outcome in ['normal.']:\n",
    "        return 0\n",
    "    else:\n",
    "        return 1"
   ]
  },
  {
   "cell_type": "code",
   "execution_count": 17,
   "metadata": {},
   "outputs": [],
   "source": [
    "columns = ['duration','protocol_type','service','flag','src_bytes','dst_bytes','land','wrong_fragment',\n",
    "            'urgent','hot','num_failed_logins','logged_in','num_compromised','root_shell','su_attempted',\n",
    "            'num_root','num_file_creations','num_shells','num_access_files','num_outbound_cmds','is_host_login',\n",
    "            'is_guest_login','count','srv_count','serror_rate','srv_serror_rate','rerror_rate',\n",
    "            'srv_rerror_rate','same_srv_rate','diff_srv_rate','srv_diff_host_rate','dst_host_count',\n",
    "            'dst_host_srv_count','dst_host_same_srv_rate','dst_host_diff_srv_rate','dst_host_same_src_port_rate',\n",
    "            'dst_host_srv_diff_host_rate','dst_host_serror_rate','dst_host_srv_serror_rate',\n",
    "            'dst_host_rerror_rate','dst_host_srv_rerror_rate','outcome']"
   ]
  },
  {
   "cell_type": "markdown",
   "metadata": {},
   "source": [
    "### Data Import and Initial Label Encoding\n",
    "Here we are reading in our dataset, and dropping all redundant rows. We are also applying an encoder to generalize our labels into 2 classes, (1) for a threat, and (0) for a normal connection."
   ]
  },
  {
   "cell_type": "code",
   "execution_count": 18,
   "metadata": {},
   "outputs": [],
   "source": [
    "# Read in dataset\n",
    "df = pd.read_csv('data/network_intrusion_data.csv', names=columns)\n",
    "\n",
    "# Categorize outcomes into binary values\n",
    "df['outcome'] = df['outcome'].apply(custom_encoder)\n",
    "\n",
    "# remove redundant rows\n",
    "df = df.drop_duplicates()"
   ]
  },
  {
   "cell_type": "markdown",
   "metadata": {},
   "source": [
    "### Data Inspection and Visualization\n",
    "Here we can take our first look at the dataset, and its columns."
   ]
  },
  {
   "cell_type": "code",
   "execution_count": 19,
   "metadata": {},
   "outputs": [
    {
     "data": {
      "text/html": [
       "<div>\n",
       "<style scoped>\n",
       "    .dataframe tbody tr th:only-of-type {\n",
       "        vertical-align: middle;\n",
       "    }\n",
       "\n",
       "    .dataframe tbody tr th {\n",
       "        vertical-align: top;\n",
       "    }\n",
       "\n",
       "    .dataframe thead th {\n",
       "        text-align: right;\n",
       "    }\n",
       "</style>\n",
       "<table border=\"1\" class=\"dataframe\">\n",
       "  <thead>\n",
       "    <tr style=\"text-align: right;\">\n",
       "      <th></th>\n",
       "      <th>duration</th>\n",
       "      <th>protocol_type</th>\n",
       "      <th>service</th>\n",
       "      <th>flag</th>\n",
       "      <th>src_bytes</th>\n",
       "      <th>dst_bytes</th>\n",
       "      <th>land</th>\n",
       "      <th>wrong_fragment</th>\n",
       "      <th>urgent</th>\n",
       "      <th>hot</th>\n",
       "      <th>...</th>\n",
       "      <th>dst_host_srv_count</th>\n",
       "      <th>dst_host_same_srv_rate</th>\n",
       "      <th>dst_host_diff_srv_rate</th>\n",
       "      <th>dst_host_same_src_port_rate</th>\n",
       "      <th>dst_host_srv_diff_host_rate</th>\n",
       "      <th>dst_host_serror_rate</th>\n",
       "      <th>dst_host_srv_serror_rate</th>\n",
       "      <th>dst_host_rerror_rate</th>\n",
       "      <th>dst_host_srv_rerror_rate</th>\n",
       "      <th>outcome</th>\n",
       "    </tr>\n",
       "  </thead>\n",
       "  <tbody>\n",
       "    <tr>\n",
       "      <th>0</th>\n",
       "      <td>0</td>\n",
       "      <td>tcp</td>\n",
       "      <td>http</td>\n",
       "      <td>SF</td>\n",
       "      <td>181</td>\n",
       "      <td>5450</td>\n",
       "      <td>0</td>\n",
       "      <td>0</td>\n",
       "      <td>0</td>\n",
       "      <td>0</td>\n",
       "      <td>...</td>\n",
       "      <td>9</td>\n",
       "      <td>1.0</td>\n",
       "      <td>0.0</td>\n",
       "      <td>0.11</td>\n",
       "      <td>0.0</td>\n",
       "      <td>0.0</td>\n",
       "      <td>0.0</td>\n",
       "      <td>0.0</td>\n",
       "      <td>0.0</td>\n",
       "      <td>0</td>\n",
       "    </tr>\n",
       "    <tr>\n",
       "      <th>1</th>\n",
       "      <td>0</td>\n",
       "      <td>tcp</td>\n",
       "      <td>http</td>\n",
       "      <td>SF</td>\n",
       "      <td>239</td>\n",
       "      <td>486</td>\n",
       "      <td>0</td>\n",
       "      <td>0</td>\n",
       "      <td>0</td>\n",
       "      <td>0</td>\n",
       "      <td>...</td>\n",
       "      <td>19</td>\n",
       "      <td>1.0</td>\n",
       "      <td>0.0</td>\n",
       "      <td>0.05</td>\n",
       "      <td>0.0</td>\n",
       "      <td>0.0</td>\n",
       "      <td>0.0</td>\n",
       "      <td>0.0</td>\n",
       "      <td>0.0</td>\n",
       "      <td>0</td>\n",
       "    </tr>\n",
       "    <tr>\n",
       "      <th>2</th>\n",
       "      <td>0</td>\n",
       "      <td>tcp</td>\n",
       "      <td>http</td>\n",
       "      <td>SF</td>\n",
       "      <td>235</td>\n",
       "      <td>1337</td>\n",
       "      <td>0</td>\n",
       "      <td>0</td>\n",
       "      <td>0</td>\n",
       "      <td>0</td>\n",
       "      <td>...</td>\n",
       "      <td>29</td>\n",
       "      <td>1.0</td>\n",
       "      <td>0.0</td>\n",
       "      <td>0.03</td>\n",
       "      <td>0.0</td>\n",
       "      <td>0.0</td>\n",
       "      <td>0.0</td>\n",
       "      <td>0.0</td>\n",
       "      <td>0.0</td>\n",
       "      <td>0</td>\n",
       "    </tr>\n",
       "    <tr>\n",
       "      <th>3</th>\n",
       "      <td>0</td>\n",
       "      <td>tcp</td>\n",
       "      <td>http</td>\n",
       "      <td>SF</td>\n",
       "      <td>219</td>\n",
       "      <td>1337</td>\n",
       "      <td>0</td>\n",
       "      <td>0</td>\n",
       "      <td>0</td>\n",
       "      <td>0</td>\n",
       "      <td>...</td>\n",
       "      <td>39</td>\n",
       "      <td>1.0</td>\n",
       "      <td>0.0</td>\n",
       "      <td>0.03</td>\n",
       "      <td>0.0</td>\n",
       "      <td>0.0</td>\n",
       "      <td>0.0</td>\n",
       "      <td>0.0</td>\n",
       "      <td>0.0</td>\n",
       "      <td>0</td>\n",
       "    </tr>\n",
       "    <tr>\n",
       "      <th>4</th>\n",
       "      <td>0</td>\n",
       "      <td>tcp</td>\n",
       "      <td>http</td>\n",
       "      <td>SF</td>\n",
       "      <td>217</td>\n",
       "      <td>2032</td>\n",
       "      <td>0</td>\n",
       "      <td>0</td>\n",
       "      <td>0</td>\n",
       "      <td>0</td>\n",
       "      <td>...</td>\n",
       "      <td>49</td>\n",
       "      <td>1.0</td>\n",
       "      <td>0.0</td>\n",
       "      <td>0.02</td>\n",
       "      <td>0.0</td>\n",
       "      <td>0.0</td>\n",
       "      <td>0.0</td>\n",
       "      <td>0.0</td>\n",
       "      <td>0.0</td>\n",
       "      <td>0</td>\n",
       "    </tr>\n",
       "  </tbody>\n",
       "</table>\n",
       "<p>5 rows × 42 columns</p>\n",
       "</div>"
      ],
      "text/plain": [
       "   duration protocol_type service flag  src_bytes  dst_bytes  land  \\\n",
       "0         0           tcp    http   SF        181       5450     0   \n",
       "1         0           tcp    http   SF        239        486     0   \n",
       "2         0           tcp    http   SF        235       1337     0   \n",
       "3         0           tcp    http   SF        219       1337     0   \n",
       "4         0           tcp    http   SF        217       2032     0   \n",
       "\n",
       "   wrong_fragment  urgent  hot  ...  dst_host_srv_count  \\\n",
       "0               0       0    0  ...                   9   \n",
       "1               0       0    0  ...                  19   \n",
       "2               0       0    0  ...                  29   \n",
       "3               0       0    0  ...                  39   \n",
       "4               0       0    0  ...                  49   \n",
       "\n",
       "   dst_host_same_srv_rate  dst_host_diff_srv_rate  \\\n",
       "0                     1.0                     0.0   \n",
       "1                     1.0                     0.0   \n",
       "2                     1.0                     0.0   \n",
       "3                     1.0                     0.0   \n",
       "4                     1.0                     0.0   \n",
       "\n",
       "   dst_host_same_src_port_rate  dst_host_srv_diff_host_rate  \\\n",
       "0                         0.11                          0.0   \n",
       "1                         0.05                          0.0   \n",
       "2                         0.03                          0.0   \n",
       "3                         0.03                          0.0   \n",
       "4                         0.02                          0.0   \n",
       "\n",
       "   dst_host_serror_rate  dst_host_srv_serror_rate  dst_host_rerror_rate  \\\n",
       "0                   0.0                       0.0                   0.0   \n",
       "1                   0.0                       0.0                   0.0   \n",
       "2                   0.0                       0.0                   0.0   \n",
       "3                   0.0                       0.0                   0.0   \n",
       "4                   0.0                       0.0                   0.0   \n",
       "\n",
       "   dst_host_srv_rerror_rate  outcome  \n",
       "0                       0.0        0  \n",
       "1                       0.0        0  \n",
       "2                       0.0        0  \n",
       "3                       0.0        0  \n",
       "4                       0.0        0  \n",
       "\n",
       "[5 rows x 42 columns]"
      ]
     },
     "execution_count": 19,
     "metadata": {},
     "output_type": "execute_result"
    }
   ],
   "source": [
    "df.head()"
   ]
  },
  {
   "cell_type": "code",
   "execution_count": 20,
   "metadata": {},
   "outputs": [
    {
     "name": "stdout",
     "output_type": "stream",
     "text": [
      "<class 'pandas.core.frame.DataFrame'>\n",
      "Int64Index: 145585 entries, 0 to 494020\n",
      "Data columns (total 42 columns):\n",
      " #   Column                       Non-Null Count   Dtype  \n",
      "---  ------                       --------------   -----  \n",
      " 0   duration                     145585 non-null  int64  \n",
      " 1   protocol_type                145585 non-null  object \n",
      " 2   service                      145585 non-null  object \n",
      " 3   flag                         145585 non-null  object \n",
      " 4   src_bytes                    145585 non-null  int64  \n",
      " 5   dst_bytes                    145585 non-null  int64  \n",
      " 6   land                         145585 non-null  int64  \n",
      " 7   wrong_fragment               145585 non-null  int64  \n",
      " 8   urgent                       145585 non-null  int64  \n",
      " 9   hot                          145585 non-null  int64  \n",
      " 10  num_failed_logins            145585 non-null  int64  \n",
      " 11  logged_in                    145585 non-null  int64  \n",
      " 12  num_compromised              145585 non-null  int64  \n",
      " 13  root_shell                   145585 non-null  int64  \n",
      " 14  su_attempted                 145585 non-null  int64  \n",
      " 15  num_root                     145585 non-null  int64  \n",
      " 16  num_file_creations           145585 non-null  int64  \n",
      " 17  num_shells                   145585 non-null  int64  \n",
      " 18  num_access_files             145585 non-null  int64  \n",
      " 19  num_outbound_cmds            145585 non-null  int64  \n",
      " 20  is_host_login                145585 non-null  int64  \n",
      " 21  is_guest_login               145585 non-null  int64  \n",
      " 22  count                        145585 non-null  int64  \n",
      " 23  srv_count                    145585 non-null  int64  \n",
      " 24  serror_rate                  145585 non-null  float64\n",
      " 25  srv_serror_rate              145585 non-null  float64\n",
      " 26  rerror_rate                  145585 non-null  float64\n",
      " 27  srv_rerror_rate              145585 non-null  float64\n",
      " 28  same_srv_rate                145585 non-null  float64\n",
      " 29  diff_srv_rate                145585 non-null  float64\n",
      " 30  srv_diff_host_rate           145585 non-null  float64\n",
      " 31  dst_host_count               145585 non-null  int64  \n",
      " 32  dst_host_srv_count           145585 non-null  int64  \n",
      " 33  dst_host_same_srv_rate       145585 non-null  float64\n",
      " 34  dst_host_diff_srv_rate       145585 non-null  float64\n",
      " 35  dst_host_same_src_port_rate  145585 non-null  float64\n",
      " 36  dst_host_srv_diff_host_rate  145585 non-null  float64\n",
      " 37  dst_host_serror_rate         145585 non-null  float64\n",
      " 38  dst_host_srv_serror_rate     145585 non-null  float64\n",
      " 39  dst_host_rerror_rate         145585 non-null  float64\n",
      " 40  dst_host_srv_rerror_rate     145585 non-null  float64\n",
      " 41  outcome                      145585 non-null  int64  \n",
      "dtypes: float64(15), int64(24), object(3)\n",
      "memory usage: 47.8+ MB\n",
      "None\n",
      "\n",
      "Number of NaN values: 0\n"
     ]
    }
   ],
   "source": [
    "# Display general information, we are looking for null values\n",
    "print(df.info())\n",
    "print(\"\\nNumber of NaN values:\", df.isnull().sum().sum())"
   ]
  },
  {
   "cell_type": "markdown",
   "metadata": {},
   "source": [
    "**Here, we can use a heatmap to look at correlations, to see which features matter the most.**"
   ]
  },
  {
   "cell_type": "code",
   "execution_count": 21,
   "metadata": {},
   "outputs": [
    {
     "data": {
      "text/plain": [
       "<AxesSubplot:>"
      ]
     },
     "execution_count": 21,
     "metadata": {},
     "output_type": "execute_result"
    },
    {
     "data": {
      "image/png": "[encoded data removed]",
      "text/plain": [
       "<Figure size 864x648 with 2 Axes>"
      ]
     },
     "metadata": {
      "needs_background": "light"
     },
     "output_type": "display_data"
    }
   ],
   "source": [
    "correlations = df.corr()\n",
    "\n",
    "plt.figure(figsize=(12,9))\n",
    "\n",
    "sns.heatmap(correlations,cmap=sns.color_palette(\"mako\", as_cmap=True))"
   ]
  },
  {
   "cell_type": "markdown",
   "metadata": {},
   "source": [
    "**We see a strange pattern in the columns for *'is_host_login'* and *'num_outbound_cmds'*, after further inspection, we can see below that the values are all 0s. With a columnn of constant values, these features have no use to us, and will be dropped.**"
   ]
  },
  {
   "cell_type": "code",
   "execution_count": 22,
   "metadata": {},
   "outputs": [
    {
     "data": {
      "text/html": [
       "<div>\n",
       "<style scoped>\n",
       "    .dataframe tbody tr th:only-of-type {\n",
       "        vertical-align: middle;\n",
       "    }\n",
       "\n",
       "    .dataframe tbody tr th {\n",
       "        vertical-align: top;\n",
       "    }\n",
       "\n",
       "    .dataframe thead th {\n",
       "        text-align: right;\n",
       "    }\n",
       "</style>\n",
       "<table border=\"1\" class=\"dataframe\">\n",
       "  <thead>\n",
       "    <tr style=\"text-align: right;\">\n",
       "      <th></th>\n",
       "      <th>is_host_login</th>\n",
       "      <th>num_outbound_cmds</th>\n",
       "    </tr>\n",
       "  </thead>\n",
       "  <tbody>\n",
       "    <tr>\n",
       "      <th>count</th>\n",
       "      <td>145585.0</td>\n",
       "      <td>145585.0</td>\n",
       "    </tr>\n",
       "    <tr>\n",
       "      <th>mean</th>\n",
       "      <td>0.0</td>\n",
       "      <td>0.0</td>\n",
       "    </tr>\n",
       "    <tr>\n",
       "      <th>std</th>\n",
       "      <td>0.0</td>\n",
       "      <td>0.0</td>\n",
       "    </tr>\n",
       "    <tr>\n",
       "      <th>min</th>\n",
       "      <td>0.0</td>\n",
       "      <td>0.0</td>\n",
       "    </tr>\n",
       "    <tr>\n",
       "      <th>25%</th>\n",
       "      <td>0.0</td>\n",
       "      <td>0.0</td>\n",
       "    </tr>\n",
       "    <tr>\n",
       "      <th>50%</th>\n",
       "      <td>0.0</td>\n",
       "      <td>0.0</td>\n",
       "    </tr>\n",
       "    <tr>\n",
       "      <th>75%</th>\n",
       "      <td>0.0</td>\n",
       "      <td>0.0</td>\n",
       "    </tr>\n",
       "    <tr>\n",
       "      <th>max</th>\n",
       "      <td>0.0</td>\n",
       "      <td>0.0</td>\n",
       "    </tr>\n",
       "  </tbody>\n",
       "</table>\n",
       "</div>"
      ],
      "text/plain": [
       "       is_host_login  num_outbound_cmds\n",
       "count       145585.0           145585.0\n",
       "mean             0.0                0.0\n",
       "std              0.0                0.0\n",
       "min              0.0                0.0\n",
       "25%              0.0                0.0\n",
       "50%              0.0                0.0\n",
       "75%              0.0                0.0\n",
       "max              0.0                0.0"
      ]
     },
     "execution_count": 22,
     "metadata": {},
     "output_type": "execute_result"
    }
   ],
   "source": [
    "# We can see the range of values here\n",
    "df[['is_host_login','num_outbound_cmds']].describe()"
   ]
  },
  {
   "cell_type": "code",
   "execution_count": 23,
   "metadata": {},
   "outputs": [],
   "source": [
    "# drop the columns\n",
    "df = df.drop(columns=['is_host_login','num_outbound_cmds'])"
   ]
  },
  {
   "cell_type": "code",
   "execution_count": 24,
   "metadata": {},
   "outputs": [
    {
     "data": {
      "text/plain": [
       "<AxesSubplot:>"
      ]
     },
     "execution_count": 24,
     "metadata": {},
     "output_type": "execute_result"
    },
    {
     "data": {
      "image/png": "[encoded data removed]",
      "text/plain": [
       "<Figure size 1440x1080 with 2 Axes>"
      ]
     },
     "metadata": {
      "needs_background": "light"
     },
     "output_type": "display_data"
    }
   ],
   "source": [
    "# look back at new heat map\n",
    "correlations = df.corr()\n",
    "\n",
    "plt.figure(figsize=(20,15))\n",
    "\n",
    "sns.heatmap(correlations,cmap=sns.color_palette(\"mako\", as_cmap=True))"
   ]
  },
  {
   "cell_type": "markdown",
   "metadata": {},
   "source": [
    "Here we can see we have 4 parameters that have a strong negative correlation to our target, and 5 have a strong positive correlation. In building a future model, we can perhaps structure it to focus on these variables."
   ]
  },
  {
   "cell_type": "markdown",
   "metadata": {},
   "source": [
    "### Data Scaling and Encoding"
   ]
  },
  {
   "cell_type": "code",
   "execution_count": 25,
   "metadata": {},
   "outputs": [],
   "source": [
    "numeric_cols = [i for i in df.columns if i not in ['protocol_type','service', 'flag', 'land', 'logged_in',\n",
    "                                                   'is_guest_login', 'outcome']]\n",
    "categorical_cols_to_encode = ['protocol_type','service', 'flag']\n",
    "# define our scaler\n",
    "mms = MinMaxScaler()\n",
    "# Scale numeric categories\n",
    "df[numeric_cols] = mms.fit_transform(df[numeric_cols])\n",
    "# Encode categorical categories\n",
    "df = pd.get_dummies(df, columns=categorical_cols_to_encode)"
   ]
  },
  {
   "cell_type": "code",
   "execution_count": 26,
   "metadata": {},
   "outputs": [
    {
     "data": {
      "text/plain": [
       "0"
      ]
     },
     "execution_count": 26,
     "metadata": {},
     "output_type": "execute_result"
    }
   ],
   "source": [
    "# Small function to check for any null values after scaling\n",
    "df.isnull().any().sum()"
   ]
  },
  {
   "cell_type": "code",
   "execution_count": 27,
   "metadata": {},
   "outputs": [],
   "source": [
    "X_cols = [i for i in df.columns if i is not 'outcome']\n",
    "\n",
    "X_train, X_test, y_train, y_test = train_test_split(df[X_cols], df['outcome'], test_size=0.2, random_state=42)"
   ]
  },
  {
   "cell_type": "code",
   "execution_count": 29,
   "metadata": {},
   "outputs": [
    {
     "data": {
      "text/plain": [
       "(116468, 116)"
      ]
     },
     "execution_count": 29,
     "metadata": {},
     "output_type": "execute_result"
    }
   ],
   "source": [
    "X_train.shape"
   ]
  },
  {
   "cell_type": "markdown",
   "metadata": {},
   "source": [
    "## Model Construction and Training"
   ]
  },
  {
   "cell_type": "code",
   "execution_count": 119,
   "metadata": {},
   "outputs": [
    {
     "name": "stderr",
     "output_type": "stream",
     "text": [
      "\u001b[34m\u001b[1mwandb\u001b[0m: wandb version 0.10.7 is available!  To upgrade, please run:\n",
      "\u001b[34m\u001b[1mwandb\u001b[0m:  $ pip install wandb --upgrade\n"
     ]
    },
    {
     "data": {
      "text/html": [
       "\n",
       "                Tracking run with wandb version 0.10.4<br/>\n",
       "                Syncing run <strong style=\"color:#cdcd00\">sandy-sun-18</strong> to <a href=\"https://wandb.ai\" target=\"_blank\">Weights & Biases</a> <a href=\"https://docs.wandb.com/integrations/jupyter.html\" target=\"_blank\">(Documentation)</a>.<br/>\n",
       "                Project page: <a href=\"https://wandb.ai/talib/Project2\" target=\"_blank\">https://wandb.ai/talib/Project2</a><br/>\n",
       "                Run page: <a href=\"https://wandb.ai/talib/Project2/runs/3nkf4cqo\" target=\"_blank\">https://wandb.ai/talib/Project2/runs/3nkf4cqo</a><br/>\n",
       "                Run data is saved locally in <code>wandb/run-20201016_115414-3nkf4cqo</code><br/><br/>\n",
       "            "
      ],
      "text/plain": [
       "<IPython.core.display.HTML object>"
      ]
     },
     "metadata": {},
     "output_type": "display_data"
    }
   ],
   "source": [
    "run = wandb.init(project='Project2',\n",
    "           config={\n",
    "            \"hyper\": \"parameter\"\n",
    "            })"
   ]
  },
  {
   "cell_type": "code",
   "execution_count": 30,
   "metadata": {},
   "outputs": [],
   "source": [
    "batch_size = 32\n",
    "epochs = 100"
   ]
  },
  {
   "cell_type": "markdown",
   "metadata": {},
   "source": [
    "### Dense Neural Network Construction"
   ]
  },
  {
   "cell_type": "code",
   "execution_count": 54,
   "metadata": {},
   "outputs": [
    {
     "name": "stdout",
     "output_type": "stream",
     "text": [
      "Model: \"sequential_6\"\n",
      "_________________________________________________________________\n",
      "Layer (type)                 Output Shape              Param #   \n",
      "=================================================================\n",
      "dense_36 (Dense)             (None, 116)               13572     \n",
      "_________________________________________________________________\n",
      "activation (Activation)      (None, 116)               0         \n",
      "_________________________________________________________________\n",
      "dense_37 (Dense)             (None, 87)                10179     \n",
      "_________________________________________________________________\n",
      "dropout_18 (Dropout)         (None, 87)                0         \n",
      "_________________________________________________________________\n",
      "dense_38 (Dense)             (None, 10)                880       \n",
      "_________________________________________________________________\n",
      "dropout_19 (Dropout)         (None, 10)                0         \n",
      "_________________________________________________________________\n",
      "dense_39 (Dense)             (None, 1)                 11        \n",
      "=================================================================\n",
      "Total params: 24,642\n",
      "Trainable params: 24,642\n",
      "Non-trainable params: 0\n",
      "_________________________________________________________________\n",
      "None\n"
     ]
    }
   ],
   "source": [
    "# Model construction\n",
    "\n",
    "model = Sequential()\n",
    "\n",
    "model.add(Dense(116, input_shape=(116,)))\n",
    "model.add(Activation('relu'))\n",
    "\n",
    "model.add(Dense(87, activation='relu'))\n",
    "model.add(Dropout(0.5))\n",
    "\n",
    "model.add(Dense(10, activation='relu'))\n",
    "model.add(Dropout(0.2))\n",
    "\n",
    "model.add(Dense(1, activation='sigmoid'))\n",
    "model.compile(loss='binary_crossentropy', optimizer='SGD')\n",
    "\n",
    "print (model.summary())"
   ]
  },
  {
   "cell_type": "code",
   "execution_count": 50,
   "metadata": {},
   "outputs": [
    {
     "name": "stdout",
     "output_type": "stream",
     "text": [
      "Epoch 1/100\n",
      "\n",
      "Epoch 00001: val_loss improved from inf to 0.05464, saving model to data/new_weights.hdf5\n",
      "3640/3640 - 5s - loss: 0.1330 - val_loss: 0.0546\n",
      "Epoch 2/100\n",
      "\n",
      "Epoch 00002: val_loss improved from 0.05464 to 0.04435, saving model to data/new_weights.hdf5\n",
      "3640/3640 - 5s - loss: 0.0714 - val_loss: 0.0444\n",
      "Epoch 3/100\n",
      "\n",
      "Epoch 00003: val_loss improved from 0.04435 to 0.03688, saving model to data/new_weights.hdf5\n",
      "3640/3640 - 5s - loss: 0.0584 - val_loss: 0.0369\n",
      "Epoch 4/100\n",
      "\n",
      "Epoch 00004: val_loss improved from 0.03688 to 0.03147, saving model to data/new_weights.hdf5\n",
      "3640/3640 - 5s - loss: 0.0496 - val_loss: 0.0315\n",
      "Epoch 5/100\n",
      "\n",
      "Epoch 00005: val_loss improved from 0.03147 to 0.02797, saving model to data/new_weights.hdf5\n",
      "3640/3640 - 5s - loss: 0.0440 - val_loss: 0.0280\n",
      "Epoch 6/100\n",
      "\n",
      "Epoch 00006: val_loss improved from 0.02797 to 0.02542, saving model to data/new_weights.hdf5\n",
      "3640/3640 - 5s - loss: 0.0395 - val_loss: 0.0254\n",
      "Epoch 7/100\n",
      "\n",
      "Epoch 00007: val_loss improved from 0.02542 to 0.02323, saving model to data/new_weights.hdf5\n",
      "3640/3640 - 5s - loss: 0.0360 - val_loss: 0.0232\n",
      "Epoch 8/100\n",
      "\n",
      "Epoch 00008: val_loss improved from 0.02323 to 0.02098, saving model to data/new_weights.hdf5\n",
      "3640/3640 - 5s - loss: 0.0334 - val_loss: 0.0210\n",
      "Epoch 9/100\n",
      "\n",
      "Epoch 00009: val_loss improved from 0.02098 to 0.01971, saving model to data/new_weights.hdf5\n",
      "3640/3640 - 5s - loss: 0.0304 - val_loss: 0.0197\n",
      "Epoch 10/100\n",
      "\n",
      "Epoch 00010: val_loss improved from 0.01971 to 0.01836, saving model to data/new_weights.hdf5\n",
      "3640/3640 - 5s - loss: 0.0292 - val_loss: 0.0184\n",
      "Epoch 11/100\n",
      "\n",
      "Epoch 00011: val_loss improved from 0.01836 to 0.01590, saving model to data/new_weights.hdf5\n",
      "3640/3640 - 6s - loss: 0.0267 - val_loss: 0.0159\n",
      "Epoch 12/100\n",
      "\n",
      "Epoch 00012: val_loss improved from 0.01590 to 0.01517, saving model to data/new_weights.hdf5\n",
      "3640/3640 - 5s - loss: 0.0252 - val_loss: 0.0152\n",
      "Epoch 13/100\n",
      "\n",
      "Epoch 00013: val_loss improved from 0.01517 to 0.01361, saving model to data/new_weights.hdf5\n",
      "3640/3640 - 5s - loss: 0.0231 - val_loss: 0.0136\n",
      "Epoch 14/100\n",
      "\n",
      "Epoch 00014: val_loss did not improve from 0.01361\n",
      "3640/3640 - 4s - loss: 0.0220 - val_loss: 0.0173\n",
      "Epoch 15/100\n",
      "\n",
      "Epoch 00015: val_loss improved from 0.01361 to 0.01191, saving model to data/new_weights.hdf5\n",
      "3640/3640 - 4s - loss: 0.0206 - val_loss: 0.0119\n",
      "Epoch 16/100\n",
      "\n",
      "Epoch 00016: val_loss improved from 0.01191 to 0.01123, saving model to data/new_weights.hdf5\n",
      "3640/3640 - 5s - loss: 0.0195 - val_loss: 0.0112\n",
      "Epoch 17/100\n",
      "\n",
      "Epoch 00017: val_loss improved from 0.01123 to 0.01036, saving model to data/new_weights.hdf5\n",
      "3640/3640 - 5s - loss: 0.0185 - val_loss: 0.0104\n",
      "Epoch 18/100\n",
      "\n",
      "Epoch 00018: val_loss improved from 0.01036 to 0.00997, saving model to data/new_weights.hdf5\n",
      "3640/3640 - 5s - loss: 0.0179 - val_loss: 0.0100\n",
      "Epoch 19/100\n",
      "\n",
      "Epoch 00019: val_loss improved from 0.00997 to 0.00912, saving model to data/new_weights.hdf5\n",
      "3640/3640 - 5s - loss: 0.0170 - val_loss: 0.0091\n",
      "Epoch 20/100\n",
      "\n",
      "Epoch 00020: val_loss improved from 0.00912 to 0.00861, saving model to data/new_weights.hdf5\n",
      "3640/3640 - 5s - loss: 0.0163 - val_loss: 0.0086\n",
      "Epoch 21/100\n",
      "\n",
      "Epoch 00021: val_loss improved from 0.00861 to 0.00795, saving model to data/new_weights.hdf5\n",
      "3640/3640 - 5s - loss: 0.0155 - val_loss: 0.0079\n",
      "Epoch 22/100\n",
      "\n",
      "Epoch 00022: val_loss did not improve from 0.00795\n",
      "3640/3640 - 5s - loss: 0.0147 - val_loss: 0.0081\n",
      "Epoch 23/100\n",
      "\n",
      "Epoch 00023: val_loss did not improve from 0.00795\n",
      "3640/3640 - 5s - loss: 0.0145 - val_loss: 0.0104\n",
      "Epoch 24/100\n",
      "\n",
      "Epoch 00024: val_loss improved from 0.00795 to 0.00713, saving model to data/new_weights.hdf5\n",
      "3640/3640 - 5s - loss: 0.0132 - val_loss: 0.0071\n",
      "Epoch 25/100\n",
      "\n",
      "Epoch 00025: val_loss improved from 0.00713 to 0.00673, saving model to data/new_weights.hdf5\n",
      "3640/3640 - 5s - loss: 0.0135 - val_loss: 0.0067\n",
      "Epoch 26/100\n",
      "\n",
      "Epoch 00026: val_loss did not improve from 0.00673\n",
      "3640/3640 - 5s - loss: 0.0130 - val_loss: 0.0069\n",
      "Epoch 27/100\n",
      "\n",
      "Epoch 00027: val_loss improved from 0.00673 to 0.00645, saving model to data/new_weights.hdf5\n",
      "3640/3640 - 5s - loss: 0.0124 - val_loss: 0.0064\n",
      "Epoch 28/100\n",
      "\n",
      "Epoch 00028: val_loss did not improve from 0.00645\n",
      "3640/3640 - 5s - loss: 0.0122 - val_loss: 0.0071\n",
      "Epoch 29/100\n",
      "\n",
      "Epoch 00029: val_loss did not improve from 0.00645\n",
      "3640/3640 - 5s - loss: 0.0120 - val_loss: 0.0065\n",
      "Epoch 30/100\n",
      "\n",
      "Epoch 00030: val_loss improved from 0.00645 to 0.00623, saving model to data/new_weights.hdf5\n",
      "3640/3640 - 4s - loss: 0.0119 - val_loss: 0.0062\n",
      "Epoch 31/100\n",
      "\n",
      "Epoch 00031: val_loss improved from 0.00623 to 0.00594, saving model to data/new_weights.hdf5\n",
      "3640/3640 - 5s - loss: 0.0111 - val_loss: 0.0059\n",
      "Epoch 32/100\n",
      "\n",
      "Epoch 00032: val_loss did not improve from 0.00594\n",
      "3640/3640 - 5s - loss: 0.0111 - val_loss: 0.0060\n",
      "Epoch 33/100\n",
      "\n",
      "Epoch 00033: val_loss improved from 0.00594 to 0.00584, saving model to data/new_weights.hdf5\n",
      "3640/3640 - 4s - loss: 0.0114 - val_loss: 0.0058\n",
      "Epoch 34/100\n",
      "\n",
      "Epoch 00034: val_loss did not improve from 0.00584\n",
      "3640/3640 - 5s - loss: 0.0103 - val_loss: 0.0060\n",
      "Epoch 35/100\n",
      "\n",
      "Epoch 00035: val_loss improved from 0.00584 to 0.00577, saving model to data/new_weights.hdf5\n",
      "3640/3640 - 5s - loss: 0.0107 - val_loss: 0.0058\n",
      "Epoch 36/100\n",
      "\n",
      "Epoch 00036: val_loss did not improve from 0.00577\n",
      "3640/3640 - 5s - loss: 0.0104 - val_loss: 0.0058\n",
      "Epoch 37/100\n",
      "\n",
      "Epoch 00037: val_loss improved from 0.00577 to 0.00552, saving model to data/new_weights.hdf5\n",
      "3640/3640 - 5s - loss: 0.0106 - val_loss: 0.0055\n",
      "Epoch 38/100\n",
      "\n",
      "Epoch 00038: val_loss did not improve from 0.00552\n",
      "3640/3640 - 5s - loss: 0.0101 - val_loss: 0.0056\n",
      "Epoch 39/100\n",
      "\n",
      "Epoch 00039: val_loss improved from 0.00552 to 0.00550, saving model to data/new_weights.hdf5\n",
      "3640/3640 - 5s - loss: 0.0097 - val_loss: 0.0055\n",
      "Epoch 40/100\n",
      "\n",
      "Epoch 00040: val_loss did not improve from 0.00550\n",
      "3640/3640 - 5s - loss: 0.0100 - val_loss: 0.0056\n",
      "Epoch 41/100\n",
      "\n",
      "Epoch 00041: val_loss did not improve from 0.00550\n",
      "3640/3640 - 5s - loss: 0.0093 - val_loss: 0.0056\n",
      "Epoch 42/100\n",
      "\n",
      "Epoch 00042: val_loss improved from 0.00550 to 0.00521, saving model to data/new_weights.hdf5\n",
      "3640/3640 - 5s - loss: 0.0094 - val_loss: 0.0052\n",
      "Epoch 43/100\n",
      "\n",
      "Epoch 00043: val_loss did not improve from 0.00521\n",
      "3640/3640 - 5s - loss: 0.0096 - val_loss: 0.0060\n",
      "Epoch 44/100\n",
      "\n",
      "Epoch 00044: val_loss improved from 0.00521 to 0.00520, saving model to data/new_weights.hdf5\n",
      "3640/3640 - 5s - loss: 0.0089 - val_loss: 0.0052\n",
      "Epoch 45/100\n",
      "\n",
      "Epoch 00045: val_loss did not improve from 0.00520\n",
      "3640/3640 - 4s - loss: 0.0090 - val_loss: 0.0054\n",
      "Epoch 46/100\n",
      "\n",
      "Epoch 00046: val_loss did not improve from 0.00520\n",
      "3640/3640 - 4s - loss: 0.0097 - val_loss: 0.0054\n",
      "Epoch 47/100\n",
      "\n",
      "Epoch 00047: val_loss improved from 0.00520 to 0.00511, saving model to data/new_weights.hdf5\n",
      "3640/3640 - 4s - loss: 0.0092 - val_loss: 0.0051\n",
      "Epoch 48/100\n",
      "\n",
      "Epoch 00048: val_loss improved from 0.00511 to 0.00509, saving model to data/new_weights.hdf5\n",
      "3640/3640 - 4s - loss: 0.0090 - val_loss: 0.0051\n",
      "Epoch 49/100\n",
      "\n",
      "Epoch 00049: val_loss did not improve from 0.00509\n",
      "3640/3640 - 4s - loss: 0.0087 - val_loss: 0.0053\n",
      "Epoch 50/100\n",
      "\n",
      "Epoch 00050: val_loss did not improve from 0.00509\n",
      "3640/3640 - 4s - loss: 0.0085 - val_loss: 0.0052\n",
      "Epoch 51/100\n",
      "\n",
      "Epoch 00051: val_loss did not improve from 0.00509\n",
      "3640/3640 - 4s - loss: 0.0092 - val_loss: 0.0053\n",
      "Epoch 52/100\n",
      "\n",
      "Epoch 00052: val_loss did not improve from 0.00509\n",
      "3640/3640 - 4s - loss: 0.0086 - val_loss: 0.0052\n",
      "Epoch 53/100\n",
      "\n",
      "Epoch 00053: val_loss did not improve from 0.00509\n",
      "3640/3640 - 4s - loss: 0.0087 - val_loss: 0.0059\n",
      "Epoch 54/100\n",
      "\n",
      "Epoch 00054: val_loss improved from 0.00509 to 0.00495, saving model to data/new_weights.hdf5\n",
      "3640/3640 - 5s - loss: 0.0088 - val_loss: 0.0050\n",
      "Epoch 55/100\n",
      "\n",
      "Epoch 00055: val_loss did not improve from 0.00495\n",
      "3640/3640 - 5s - loss: 0.0081 - val_loss: 0.0050\n",
      "Epoch 56/100\n",
      "\n",
      "Epoch 00056: val_loss did not improve from 0.00495\n",
      "3640/3640 - 4s - loss: 0.0086 - val_loss: 0.0055\n",
      "Epoch 57/100\n",
      "\n",
      "Epoch 00057: val_loss did not improve from 0.00495\n",
      "3640/3640 - 5s - loss: 0.0084 - val_loss: 0.0050\n",
      "Epoch 58/100\n",
      "\n",
      "Epoch 00058: val_loss did not improve from 0.00495\n",
      "3640/3640 - 5s - loss: 0.0086 - val_loss: 0.0055\n",
      "Epoch 59/100\n",
      "\n",
      "Epoch 00059: val_loss did not improve from 0.00495\n",
      "3640/3640 - 6s - loss: 0.0078 - val_loss: 0.0066\n",
      "Epoch 60/100\n",
      "\n",
      "Epoch 00060: val_loss did not improve from 0.00495\n",
      "3640/3640 - 5s - loss: 0.0083 - val_loss: 0.0050\n"
     ]
    },
    {
     "name": "stdout",
     "output_type": "stream",
     "text": [
      "Epoch 61/100\n",
      "\n",
      "Epoch 00061: val_loss improved from 0.00495 to 0.00479, saving model to data/new_weights.hdf5\n",
      "3640/3640 - 5s - loss: 0.0078 - val_loss: 0.0048\n",
      "Epoch 62/100\n",
      "\n",
      "Epoch 00062: val_loss did not improve from 0.00479\n",
      "3640/3640 - 4s - loss: 0.0083 - val_loss: 0.0048\n",
      "Epoch 63/100\n",
      "\n",
      "Epoch 00063: val_loss did not improve from 0.00479\n",
      "3640/3640 - 5s - loss: 0.0077 - val_loss: 0.0048\n",
      "Epoch 64/100\n",
      "\n",
      "Epoch 00064: val_loss did not improve from 0.00479\n",
      "3640/3640 - 5s - loss: 0.0083 - val_loss: 0.0053\n",
      "Epoch 65/100\n",
      "\n",
      "Epoch 00065: val_loss did not improve from 0.00479\n",
      "3640/3640 - 5s - loss: 0.0075 - val_loss: 0.0052\n",
      "Epoch 66/100\n",
      "\n",
      "Epoch 00066: val_loss did not improve from 0.00479\n",
      "3640/3640 - 5s - loss: 0.0072 - val_loss: 0.0049\n",
      "Epoch 67/100\n",
      "\n",
      "Epoch 00067: val_loss did not improve from 0.00479\n",
      "3640/3640 - 5s - loss: 0.0075 - val_loss: 0.0050\n",
      "Epoch 68/100\n",
      "\n",
      "Epoch 00068: val_loss did not improve from 0.00479\n",
      "3640/3640 - 5s - loss: 0.0079 - val_loss: 0.0048\n",
      "Epoch 69/100\n",
      "\n",
      "Epoch 00069: val_loss improved from 0.00479 to 0.00467, saving model to data/new_weights.hdf5\n",
      "3640/3640 - 5s - loss: 0.0080 - val_loss: 0.0047\n",
      "Epoch 70/100\n",
      "\n",
      "Epoch 00070: val_loss did not improve from 0.00467\n",
      "3640/3640 - 5s - loss: 0.0093 - val_loss: 0.0050\n",
      "Epoch 71/100\n",
      "\n",
      "Epoch 00071: val_loss did not improve from 0.00467\n",
      "3640/3640 - 5s - loss: 0.0085 - val_loss: 0.0048\n",
      "Epoch 72/100\n",
      "\n",
      "Epoch 00072: val_loss did not improve from 0.00467\n",
      "3640/3640 - 5s - loss: 0.0076 - val_loss: 0.0048\n",
      "Epoch 73/100\n",
      "\n",
      "Epoch 00073: val_loss did not improve from 0.00467\n",
      "3640/3640 - 5s - loss: 0.0073 - val_loss: 0.0055\n",
      "Epoch 74/100\n",
      "\n",
      "Epoch 00074: val_loss did not improve from 0.00467\n",
      "3640/3640 - 5s - loss: 0.0076 - val_loss: 0.0051\n",
      "Epoch 75/100\n",
      "\n",
      "Epoch 00075: val_loss did not improve from 0.00467\n",
      "3640/3640 - 5s - loss: 0.0076 - val_loss: 0.0050\n",
      "Epoch 76/100\n",
      "\n",
      "Epoch 00076: val_loss improved from 0.00467 to 0.00462, saving model to data/new_weights.hdf5\n",
      "3640/3640 - 4s - loss: 0.0073 - val_loss: 0.0046\n",
      "Epoch 77/100\n",
      "\n",
      "Epoch 00077: val_loss did not improve from 0.00462\n",
      "3640/3640 - 5s - loss: 0.0075 - val_loss: 0.0050\n",
      "Epoch 78/100\n",
      "\n",
      "Epoch 00078: val_loss did not improve from 0.00462\n",
      "3640/3640 - 5s - loss: 0.0084 - val_loss: 0.0064\n",
      "Epoch 79/100\n",
      "\n",
      "Epoch 00079: val_loss did not improve from 0.00462\n",
      "3640/3640 - 5s - loss: 0.0076 - val_loss: 0.0158\n",
      "Epoch 80/100\n",
      "\n",
      "Epoch 00080: val_loss did not improve from 0.00462\n",
      "3640/3640 - 5s - loss: 0.0072 - val_loss: 0.0048\n",
      "Epoch 81/100\n",
      "\n",
      "Epoch 00081: val_loss did not improve from 0.00462\n",
      "3640/3640 - 4s - loss: 0.0074 - val_loss: 0.0047\n",
      "Epoch 82/100\n",
      "\n",
      "Epoch 00082: val_loss did not improve from 0.00462\n",
      "3640/3640 - 5s - loss: 0.0070 - val_loss: 0.0053\n",
      "Epoch 83/100\n",
      "\n",
      "Epoch 00083: val_loss did not improve from 0.00462\n",
      "3640/3640 - 5s - loss: 0.0069 - val_loss: 0.0048\n",
      "Epoch 84/100\n",
      "\n",
      "Epoch 00084: val_loss did not improve from 0.00462\n",
      "3640/3640 - 4s - loss: 0.0069 - val_loss: 0.0047\n",
      "Epoch 85/100\n",
      "\n",
      "Epoch 00085: val_loss did not improve from 0.00462\n",
      "3640/3640 - 5s - loss: 0.0067 - val_loss: 0.0058\n",
      "Epoch 86/100\n",
      "\n",
      "Epoch 00086: val_loss did not improve from 0.00462\n",
      "3640/3640 - 5s - loss: 0.0070 - val_loss: 0.0047\n",
      "Epoch 87/100\n",
      "\n",
      "Epoch 00087: val_loss did not improve from 0.00462\n",
      "3640/3640 - 5s - loss: 0.0074 - val_loss: 0.0049\n",
      "Epoch 88/100\n",
      "\n",
      "Epoch 00088: val_loss did not improve from 0.00462\n",
      "3640/3640 - 5s - loss: 0.0093 - val_loss: 0.0051\n",
      "Epoch 89/100\n",
      "\n",
      "Epoch 00089: val_loss did not improve from 0.00462\n",
      "3640/3640 - 5s - loss: 0.0074 - val_loss: 0.0060\n",
      "Epoch 00089: early stopping\n"
     ]
    },
    {
     "data": {
      "text/html": [
       "<br/>Waiting for W&B process to finish, PID 16722<br/>Program ended successfully."
      ],
      "text/plain": [
       "<IPython.core.display.HTML object>"
      ]
     },
     "metadata": {},
     "output_type": "display_data"
    },
    {
     "data": {
      "text/html": [
       "Find user logs for this run at: <code>wandb/run-20201016_011136-22h52z8z/logs/debug.log</code>"
      ],
      "text/plain": [
       "<IPython.core.display.HTML object>"
      ]
     },
     "metadata": {},
     "output_type": "display_data"
    },
    {
     "data": {
      "text/html": [
       "Find internal logs for this run at: <code>wandb/run-20201016_011136-22h52z8z/logs/debug-internal.log</code>"
      ],
      "text/plain": [
       "<IPython.core.display.HTML object>"
      ]
     },
     "metadata": {},
     "output_type": "display_data"
    },
    {
     "data": {
      "text/html": [
       "<h3>Run summary:</h3><br/><style>\n",
       "    table.wandb td:nth-child(1) { padding: 0 10px; text-align: right }\n",
       "    </style><table class=\"wandb\">\n",
       "<tr><td>epoch</td><td>88</td></tr><tr><td>loss</td><td>0.00744</td></tr><tr><td>val_loss</td><td>0.00599</td></tr><tr><td>_step</td><td>88</td></tr><tr><td>_runtime</td><td>432</td></tr><tr><td>_timestamp</td><td>1602836328</td></tr><tr><td>best_val_loss</td><td>0.00462</td></tr><tr><td>best_epoch</td><td>75</td></tr></table>"
      ],
      "text/plain": [
       "<IPython.core.display.HTML object>"
      ]
     },
     "metadata": {},
     "output_type": "display_data"
    },
    {
     "data": {
      "text/html": [
       "<h3>Run history:</h3><br/><style>\n",
       "    table.wandb td:nth-child(1) { padding: 0 10px; text-align: right }\n",
       "    </style><table class=\"wandb\">\n",
       "<tr><td>epoch</td><td>▁▁▁▁▂▂▂▂▂▃▃▃▃▃▃▄▄▄▄▄▅▅▅▅▅▅▆▆▆▆▆▆▇▇▇▇▇███</td></tr><tr><td>loss</td><td>█▄▃▃▂▂▂▂▂▁▁▁▁▁▁▁▁▁▁▁▁▁▁▁▁▁▁▁▁▁▁▁▁▁▁▁▁▁▁▁</td></tr><tr><td>val_loss</td><td>█▆▄▄▃▂▃▂▂▁▂▁▁▁▁▁▁▁▁▁▁▁▁▁▁▁▁▁▁▁▁▁▁▁▁▃▁▁▁▁</td></tr><tr><td>_step</td><td>▁▁▁▁▂▂▂▂▂▃▃▃▃▃▃▄▄▄▄▄▅▅▅▅▅▅▆▆▆▆▆▆▇▇▇▇▇███</td></tr><tr><td>_runtime</td><td>▁▁▁▂▂▂▂▂▃▃▃▃▃▃▄▄▄▄▄▄▅▅▅▅▅▅▆▆▆▆▆▇▇▇▇▇▇███</td></tr><tr><td>_timestamp</td><td>▁▁▁▂▂▂▂▂▃▃▃▃▃▃▄▄▄▄▄▄▅▅▅▅▅▅▆▆▆▆▆▇▇▇▇▇▇███</td></tr></table><br/>"
      ],
      "text/plain": [
       "<IPython.core.display.HTML object>"
      ]
     },
     "metadata": {},
     "output_type": "display_data"
    },
    {
     "data": {
      "text/html": [
       "Synced 5 W&B file(s), 1 media file(s), 0 artifact file(s) and 1 other file(s)"
      ],
      "text/plain": [
       "<IPython.core.display.HTML object>"
      ]
     },
     "metadata": {},
     "output_type": "display_data"
    },
    {
     "data": {
      "text/html": [
       "\n",
       "                    <br/>Synced <strong style=\"color:#cdcd00\">eager-lake-9</strong>: <a href=\"https://wandb.ai/talib/Project2/runs/22h52z8z\" target=\"_blank\">https://wandb.ai/talib/Project2/runs/22h52z8z</a><br/>\n",
       "                "
      ],
      "text/plain": [
       "<IPython.core.display.HTML object>"
      ]
     },
     "metadata": {},
     "output_type": "display_data"
    }
   ],
   "source": [
    "monitor = EarlyStopping(monitor='val_loss', min_delta=1e-4, patience=20, verbose=2, mode='auto')\n",
    "\n",
    "checkpointer = ModelCheckpoint(filepath=\"data/Dense/Dense-SGD.hdf5\", verbose=1, save_best_only=True)\n",
    "\n",
    "model.fit(X_train, y_train, batch_size=batch_size,\n",
    "          validation_data=(X_test, y_test),\n",
    "          callbacks=[WandbCallback(), monitor, checkpointer],\n",
    "          epochs=epochs, verbose=2)\n",
    "\n",
    "# Re-load best weights to evaluate\n",
    "model.load_weights('data/Dense/Dense-SGD.hdf5')\n",
    "\n",
    "# This is to stop the monitoring tool\n",
    "run.finish()"
   ]
  },
  {
   "cell_type": "code",
   "execution_count": 90,
   "metadata": {
    "scrolled": true
   },
   "outputs": [
    {
     "name": "stdout",
     "output_type": "stream",
     "text": [
      "Precision score: 0.9987980529049559\n",
      "Recall score: 0.9987979530858262\n",
      "F1 score: 0.9987978539373346\n"
     ]
    }
   ],
   "source": [
    "model.load_weights('data/Dense/Dense-SGD.hdf5')\n",
    "\n",
    "# predict test values, round into proper class\n",
    "validation_preds = model.predict(X_test)\n",
    "validation_preds = np.round(validation_preds)\n",
    "\n",
    "# calculate metrics\n",
    "precision = precision_score(y_test, validation_preds, average='weighted')\n",
    "recall = recall_score(y_test, validation_preds, average='weighted')\n",
    "score = f1_score(y_test, validation_preds, average='weighted')\n",
    "\n",
    "print(\"Precision score: {}\".format(precision))\n",
    "print(\"Recall score: {}\".format(recall))\n",
    "print(\"F1 score: {}\".format(score))"
   ]
  },
  {
   "cell_type": "code",
   "execution_count": 93,
   "metadata": {},
   "outputs": [
    {
     "data": {
      "text/plain": [
       "<AxesSubplot:>"
      ]
     },
     "execution_count": 93,
     "metadata": {},
     "output_type": "execute_result"
    },
    {
     "data": {
      "image/png": "[encoded data removed]",
      "text/plain": [
       "<Figure size 1080x504 with 2 Axes>"
      ]
     },
     "metadata": {
      "needs_background": "light"
     },
     "output_type": "display_data"
    }
   ],
   "source": [
    "cfm = confusion_matrix(validation_preds, y_test)\n",
    "plt.figure(figsize=(15,7))\n",
    "sns.heatmap(cfm,cmap=sns.color_palette(\"mako\", as_cmap=True), annot=True,fmt='',\n",
    "            xticklabels=['good connection', 'attack'], yticklabels=['good connection', 'attack'])"
   ]
  },
  {
   "cell_type": "markdown",
   "metadata": {},
   "source": [
    "### Prepare data for CNN\n",
    "The data does not fit into the model properly in the previous format, so we do some reshaping, and change our lables to 2 columns"
   ]
  },
  {
   "cell_type": "code",
   "execution_count": 35,
   "metadata": {},
   "outputs": [],
   "source": [
    "y_train_cnn = tf.keras.utils.to_categorical(y_train, 2)\n",
    "y_test_cnn = tf.keras.utils.to_categorical(y_test, 2)\n",
    "\n",
    "X_train_cnn = X_train.to_numpy().reshape((X_train.shape[0],1,X_train.shape[1],1))\n",
    "X_test_cnn = X_test.to_numpy().reshape((X_test.shape[0],1,X_test.shape[1],1))"
   ]
  },
  {
   "cell_type": "markdown",
   "metadata": {},
   "source": [
    "### Convolutional Neural Network Construction"
   ]
  },
  {
   "cell_type": "code",
   "execution_count": 116,
   "metadata": {},
   "outputs": [
    {
     "name": "stdout",
     "output_type": "stream",
     "text": [
      "Model: \"sequential_7\"\n",
      "_________________________________________________________________\n",
      "Layer (type)                 Output Shape              Param #   \n",
      "=================================================================\n",
      "conv2d_6 (Conv2D)            (None, 1, 113, 64)        320       \n",
      "_________________________________________________________________\n",
      "max_pooling2d_6 (MaxPooling2 (None, 1, 56, 64)         0         \n",
      "_________________________________________________________________\n",
      "flatten_6 (Flatten)          (None, 3584)              0         \n",
      "_________________________________________________________________\n",
      "dense_40 (Dense)             (None, 1000)              3585000   \n",
      "_________________________________________________________________\n",
      "dense_41 (Dense)             (None, 750)               750750    \n",
      "_________________________________________________________________\n",
      "dropout_20 (Dropout)         (None, 750)               0         \n",
      "_________________________________________________________________\n",
      "dense_42 (Dense)             (None, 500)               375500    \n",
      "_________________________________________________________________\n",
      "dense_43 (Dense)             (None, 100)               50100     \n",
      "_________________________________________________________________\n",
      "dropout_21 (Dropout)         (None, 100)               0         \n",
      "_________________________________________________________________\n",
      "dense_44 (Dense)             (None, 10)                1010      \n",
      "_________________________________________________________________\n",
      "dropout_22 (Dropout)         (None, 10)                0         \n",
      "_________________________________________________________________\n",
      "dense_45 (Dense)             (None, 2)                 22        \n",
      "=================================================================\n",
      "Total params: 4,762,702\n",
      "Trainable params: 4,762,702\n",
      "Non-trainable params: 0\n",
      "_________________________________________________________________\n",
      "None\n"
     ]
    }
   ],
   "source": [
    "cnn_model = Sequential()\n",
    "\n",
    "cnn_model.add(Conv2D(64, kernel_size=(1,4), strides=(1,1), activation='relu', input_shape=(1, 116, 1)))\n",
    "\n",
    "cnn_model.add(MaxPooling2D(pool_size=(1,2)))\n",
    "\n",
    "cnn_model.add(Flatten())\n",
    "\n",
    "cnn_model.add(Dense(1000, activation='relu'))\n",
    "\n",
    "cnn_model.add(Dense(750, activation='relu'))\n",
    "\n",
    "cnn_model.add(Dropout(0.5))\n",
    "\n",
    "cnn_model.add(Dense(500, activation='relu'))\n",
    "\n",
    "cnn_model.add(Dense(100, activation='relu'))\n",
    "\n",
    "cnn_model.add(Dropout(0.2))\n",
    "\n",
    "cnn_model.add(Dense(10, activation='relu'))\n",
    "\n",
    "cnn_model.add(Dropout(0.2))\n",
    "\n",
    "cnn_model.add(Dense(2, activation='softmax'))\n",
    "\n",
    "cnn_model.compile(loss='categorical_crossentropy', optimizer='SGD')\n",
    "\n",
    "print (cnn_model.summary())"
   ]
  },
  {
   "cell_type": "code",
   "execution_count": 33,
   "metadata": {},
   "outputs": [
    {
     "data": {
      "text/plain": [
       "(29117, 116)"
      ]
     },
     "execution_count": 33,
     "metadata": {},
     "output_type": "execute_result"
    }
   ],
   "source": [
    "X_test.shape"
   ]
  },
  {
   "cell_type": "code",
   "execution_count": 121,
   "metadata": {},
   "outputs": [
    {
     "name": "stdout",
     "output_type": "stream",
     "text": [
      "Epoch 1/100\n",
      "\n",
      "Epoch 00001: val_loss improved from inf to 0.00712, saving model to data/CNN/new_run.hdf5\n",
      "3640/3640 - 9s - loss: 0.0063 - val_loss: 0.0071\n",
      "Epoch 2/100\n",
      "\n",
      "Epoch 00002: val_loss improved from 0.00712 to 0.00476, saving model to data/CNN/new_run.hdf5\n",
      "3640/3640 - 10s - loss: 0.0068 - val_loss: 0.0048\n",
      "Epoch 3/100\n",
      "\n",
      "Epoch 00003: val_loss improved from 0.00476 to 0.00462, saving model to data/CNN/new_run.hdf5\n",
      "3640/3640 - 9s - loss: 0.0061 - val_loss: 0.0046\n",
      "Epoch 4/100\n",
      "\n",
      "Epoch 00004: val_loss did not improve from 0.00462\n",
      "3640/3640 - 8s - loss: 0.0062 - val_loss: 0.0054\n",
      "Epoch 5/100\n",
      "\n",
      "Epoch 00005: val_loss did not improve from 0.00462\n",
      "3640/3640 - 9s - loss: 0.0063 - val_loss: 0.0053\n",
      "Epoch 6/100\n",
      "\n",
      "Epoch 00006: val_loss did not improve from 0.00462\n",
      "3640/3640 - 8s - loss: 0.0065 - val_loss: 0.0051\n",
      "Epoch 7/100\n",
      "\n",
      "Epoch 00007: val_loss improved from 0.00462 to 0.00450, saving model to data/CNN/new_run.hdf5\n",
      "3640/3640 - 8s - loss: 0.0058 - val_loss: 0.0045\n",
      "Epoch 8/100\n",
      "\n",
      "Epoch 00008: val_loss did not improve from 0.00450\n",
      "3640/3640 - 8s - loss: 0.0059 - val_loss: 0.0052\n",
      "Epoch 9/100\n",
      "\n",
      "Epoch 00009: val_loss did not improve from 0.00450\n",
      "3640/3640 - 8s - loss: 0.0058 - val_loss: 0.0063\n",
      "Epoch 10/100\n",
      "\n",
      "Epoch 00010: val_loss did not improve from 0.00450\n",
      "3640/3640 - 9s - loss: 0.0060 - val_loss: 0.0048\n",
      "Epoch 11/100\n",
      "\n",
      "Epoch 00011: val_loss did not improve from 0.00450\n",
      "3640/3640 - 8s - loss: 0.0060 - val_loss: 0.0053\n",
      "Epoch 12/100\n",
      "\n",
      "Epoch 00012: val_loss did not improve from 0.00450\n",
      "3640/3640 - 8s - loss: 0.0055 - val_loss: 0.0047\n",
      "Epoch 13/100\n",
      "\n",
      "Epoch 00013: val_loss did not improve from 0.00450\n",
      "3640/3640 - 8s - loss: 0.0060 - val_loss: 0.0047\n",
      "Epoch 14/100\n",
      "\n",
      "Epoch 00014: val_loss did not improve from 0.00450\n",
      "3640/3640 - 8s - loss: 0.0057 - val_loss: 0.0049\n",
      "Epoch 15/100\n",
      "\n",
      "Epoch 00015: val_loss did not improve from 0.00450\n",
      "3640/3640 - 8s - loss: 0.0054 - val_loss: 0.0093\n",
      "Epoch 16/100\n",
      "\n",
      "Epoch 00016: val_loss did not improve from 0.00450\n",
      "3640/3640 - 8s - loss: 0.0056 - val_loss: 0.0049\n",
      "Epoch 17/100\n",
      "\n",
      "Epoch 00017: val_loss did not improve from 0.00450\n",
      "3640/3640 - 8s - loss: 0.0051 - val_loss: 0.0057\n",
      "Epoch 18/100\n",
      "\n",
      "Epoch 00018: val_loss did not improve from 0.00450\n",
      "3640/3640 - 8s - loss: 0.0061 - val_loss: 0.0051\n",
      "Epoch 19/100\n",
      "\n",
      "Epoch 00019: val_loss did not improve from 0.00450\n",
      "3640/3640 - 8s - loss: 0.0056 - val_loss: 0.0047\n",
      "Epoch 20/100\n",
      "\n",
      "Epoch 00020: val_loss did not improve from 0.00450\n",
      "3640/3640 - 8s - loss: 0.0053 - val_loss: 0.0050\n",
      "Epoch 21/100\n",
      "\n",
      "Epoch 00021: val_loss did not improve from 0.00450\n",
      "3640/3640 - 8s - loss: 0.0053 - val_loss: 0.0050\n",
      "Epoch 22/100\n",
      "\n",
      "Epoch 00022: val_loss did not improve from 0.00450\n",
      "3640/3640 - 8s - loss: 0.0059 - val_loss: 0.0057\n",
      "Epoch 23/100\n",
      "\n",
      "Epoch 00023: val_loss did not improve from 0.00450\n",
      "3640/3640 - 8s - loss: 0.0049 - val_loss: 0.0049\n",
      "Epoch 24/100\n",
      "\n",
      "Epoch 00024: val_loss did not improve from 0.00450\n",
      "3640/3640 - 8s - loss: 0.0053 - val_loss: 0.0050\n",
      "Epoch 25/100\n",
      "\n",
      "Epoch 00025: val_loss did not improve from 0.00450\n",
      "3640/3640 - 8s - loss: 0.0052 - val_loss: 0.0048\n",
      "Epoch 26/100\n",
      "\n",
      "Epoch 00026: val_loss did not improve from 0.00450\n",
      "3640/3640 - 8s - loss: 0.0049 - val_loss: 0.0047\n",
      "Epoch 27/100\n",
      "\n",
      "Epoch 00027: val_loss improved from 0.00450 to 0.00429, saving model to data/CNN/new_run.hdf5\n",
      "3640/3640 - 8s - loss: 0.0050 - val_loss: 0.0043\n",
      "Epoch 28/100\n",
      "\n",
      "Epoch 00028: val_loss did not improve from 0.00429\n",
      "3640/3640 - 8s - loss: 0.0052 - val_loss: 0.0068\n",
      "Epoch 29/100\n",
      "\n",
      "Epoch 00029: val_loss did not improve from 0.00429\n",
      "3640/3640 - 8s - loss: 0.0049 - val_loss: 0.0048\n",
      "Epoch 30/100\n",
      "\n",
      "Epoch 00030: val_loss did not improve from 0.00429\n",
      "3640/3640 - 8s - loss: 0.0055 - val_loss: 0.0056\n",
      "Epoch 31/100\n",
      "\n",
      "Epoch 00031: val_loss did not improve from 0.00429\n",
      "3640/3640 - 8s - loss: 0.0051 - val_loss: 0.0044\n",
      "Epoch 32/100\n",
      "\n",
      "Epoch 00032: val_loss did not improve from 0.00429\n",
      "3640/3640 - 8s - loss: 0.0050 - val_loss: 0.0046\n",
      "Epoch 33/100\n",
      "\n",
      "Epoch 00033: val_loss did not improve from 0.00429\n",
      "3640/3640 - 8s - loss: 0.0049 - val_loss: 0.0044\n",
      "Epoch 34/100\n",
      "\n",
      "Epoch 00034: val_loss did not improve from 0.00429\n",
      "3640/3640 - 9s - loss: 0.0050 - val_loss: 0.0055\n",
      "Epoch 35/100\n",
      "\n",
      "Epoch 00035: val_loss did not improve from 0.00429\n",
      "3640/3640 - 8s - loss: 0.0052 - val_loss: 0.0048\n",
      "Epoch 36/100\n",
      "\n",
      "Epoch 00036: val_loss did not improve from 0.00429\n",
      "3640/3640 - 8s - loss: 0.0049 - val_loss: 0.0046\n",
      "Epoch 37/100\n",
      "\n",
      "Epoch 00037: val_loss did not improve from 0.00429\n",
      "3640/3640 - 8s - loss: 0.0049 - val_loss: 0.0053\n",
      "Epoch 38/100\n",
      "\n",
      "Epoch 00038: val_loss did not improve from 0.00429\n",
      "3640/3640 - 10s - loss: 0.0049 - val_loss: 0.0064\n",
      "Epoch 39/100\n",
      "\n",
      "Epoch 00039: val_loss did not improve from 0.00429\n",
      "3640/3640 - 9s - loss: 0.0047 - val_loss: 0.0050\n",
      "Epoch 40/100\n",
      "\n",
      "Epoch 00040: val_loss did not improve from 0.00429\n",
      "3640/3640 - 9s - loss: 0.0048 - val_loss: 0.0047\n",
      "Epoch 41/100\n",
      "\n",
      "Epoch 00041: val_loss did not improve from 0.00429\n",
      "3640/3640 - 9s - loss: 0.0050 - val_loss: 0.0056\n",
      "Epoch 42/100\n",
      "\n",
      "Epoch 00042: val_loss did not improve from 0.00429\n",
      "3640/3640 - 9s - loss: 0.0049 - val_loss: 0.0054\n",
      "Epoch 43/100\n",
      "\n",
      "Epoch 00043: val_loss did not improve from 0.00429\n",
      "3640/3640 - 9s - loss: 0.0048 - val_loss: 0.0051\n",
      "Epoch 44/100\n",
      "\n",
      "Epoch 00044: val_loss did not improve from 0.00429\n",
      "3640/3640 - 9s - loss: 0.0042 - val_loss: 0.0054\n",
      "Epoch 45/100\n",
      "\n",
      "Epoch 00045: val_loss did not improve from 0.00429\n",
      "3640/3640 - 9s - loss: 0.0048 - val_loss: 0.0050\n",
      "Epoch 46/100\n",
      "\n",
      "Epoch 00046: val_loss did not improve from 0.00429\n",
      "3640/3640 - 9s - loss: 0.0048 - val_loss: 0.0046\n",
      "Epoch 47/100\n",
      "\n",
      "Epoch 00047: val_loss did not improve from 0.00429\n",
      "3640/3640 - 9s - loss: 0.0044 - val_loss: 0.0052\n",
      "Epoch 00047: early stopping\n"
     ]
    },
    {
     "data": {
      "text/html": [
       "<br/>Waiting for W&B process to finish, PID 26601<br/>Program ended successfully."
      ],
      "text/plain": [
       "<IPython.core.display.HTML object>"
      ]
     },
     "metadata": {},
     "output_type": "display_data"
    },
    {
     "data": {
      "text/html": [
       "Find user logs for this run at: <code>wandb/run-20201016_115414-3nkf4cqo/logs/debug.log</code>"
      ],
      "text/plain": [
       "<IPython.core.display.HTML object>"
      ]
     },
     "metadata": {},
     "output_type": "display_data"
    },
    {
     "data": {
      "text/html": [
       "Find internal logs for this run at: <code>wandb/run-20201016_115414-3nkf4cqo/logs/debug-internal.log</code>"
      ],
      "text/plain": [
       "<IPython.core.display.HTML object>"
      ]
     },
     "metadata": {},
     "output_type": "display_data"
    },
    {
     "data": {
      "text/html": [
       "<h3>Run summary:</h3><br/><style>\n",
       "    table.wandb td:nth-child(1) { padding: 0 10px; text-align: right }\n",
       "    </style><table class=\"wandb\">\n",
       "<tr><td>epoch</td><td>46</td></tr><tr><td>loss</td><td>0.00439</td></tr><tr><td>val_loss</td><td>0.00525</td></tr><tr><td>_step</td><td>46</td></tr><tr><td>_runtime</td><td>407</td></tr><tr><td>_timestamp</td><td>1602874861</td></tr><tr><td>best_val_loss</td><td>0.00429</td></tr><tr><td>best_epoch</td><td>26</td></tr></table>"
      ],
      "text/plain": [
       "<IPython.core.display.HTML object>"
      ]
     },
     "metadata": {},
     "output_type": "display_data"
    },
    {
     "data": {
      "text/html": [
       "<h3>Run history:</h3><br/><style>\n",
       "    table.wandb td:nth-child(1) { padding: 0 10px; text-align: right }\n",
       "    </style><table class=\"wandb\">\n",
       "<tr><td>epoch</td><td>▁▁▁▁▂▂▂▂▂▃▃▃▃▃▃▄▄▄▄▄▅▅▅▅▅▅▆▆▆▆▆▆▇▇▇▇▇███</td></tr><tr><td>loss</td><td>▇█▆▆▇▇▅▅▆▆▅▆▄▅▄▆▅▄▅▃▄▄▃▄▃▄▄▃▃▄▃▃▃▂▃▃▃▁▃▂</td></tr><tr><td>val_loss</td><td>▅▁▁▂▂▂▂▄▂▂▁▁█▂▃▂▁▂▃▂▂▁▁▄▂▃▁▁▃▁▁▂▄▂▃▂▂▂▂▂</td></tr><tr><td>_step</td><td>▁▁▁▁▂▂▂▂▂▃▃▃▃▃▃▄▄▄▄▄▅▅▅▅▅▅▆▆▆▆▆▆▇▇▇▇▇███</td></tr><tr><td>_runtime</td><td>▁▁▁▂▂▂▂▂▂▃▃▃▃▃▃▄▄▄▄▄▄▅▅▅▅▅▅▆▆▆▆▆▇▇▇▇▇███</td></tr><tr><td>_timestamp</td><td>▁▁▁▂▂▂▂▂▂▃▃▃▃▃▃▄▄▄▄▄▄▅▅▅▅▅▅▆▆▆▆▆▇▇▇▇▇███</td></tr></table><br/>"
      ],
      "text/plain": [
       "<IPython.core.display.HTML object>"
      ]
     },
     "metadata": {},
     "output_type": "display_data"
    },
    {
     "data": {
      "text/html": [
       "Synced 5 W&B file(s), 1 media file(s), 0 artifact file(s) and 1 other file(s)"
      ],
      "text/plain": [
       "<IPython.core.display.HTML object>"
      ]
     },
     "metadata": {},
     "output_type": "display_data"
    },
    {
     "data": {
      "text/html": [
       "\n",
       "                    <br/>Synced <strong style=\"color:#cdcd00\">sandy-sun-18</strong>: <a href=\"https://wandb.ai/talib/Project2/runs/3nkf4cqo\" target=\"_blank\">https://wandb.ai/talib/Project2/runs/3nkf4cqo</a><br/>\n",
       "                "
      ],
      "text/plain": [
       "<IPython.core.display.HTML object>"
      ]
     },
     "metadata": {},
     "output_type": "display_data"
    }
   ],
   "source": [
    "monitor = EarlyStopping(monitor='val_loss', min_delta=1e-4, patience=20, verbose=2, mode='auto')\n",
    "\n",
    "checkpointer = ModelCheckpoint(filepath=\"data/CNN/new_run.hdf5\", verbose=2, save_best_only=True)\n",
    "\n",
    "cnn_model.fit(X_train_cnn, y_train_cnn,\n",
    "          validation_data=(X_test_cnn, y_test_cnn),\n",
    "          callbacks=[WandbCallback(), monitor, checkpointer],\n",
    "          epochs=epochs, verbose=2)\n",
    "\n",
    "# Re-load best weights to evaluate\n",
    "cnn_model.load_weights('data/CNN/new_run.hdf5')\n",
    "\n",
    "# This is to stop the monitoring tool\n",
    "run.finish()"
   ]
  },
  {
   "cell_type": "markdown",
   "metadata": {},
   "source": [
    "### Evaluation"
   ]
  },
  {
   "cell_type": "code",
   "execution_count": 122,
   "metadata": {},
   "outputs": [
    {
     "name": "stdout",
     "output_type": "stream",
     "text": [
      "Precision score: 0.9986949693963547\n",
      "Recall score: 0.9986949204931826\n",
      "F1 score: 0.9986949400197014\n"
     ]
    }
   ],
   "source": [
    "cnn_model.load_weights('data/CNN/final_run.hdf5')\n",
    "\n",
    "# predict test values, round into proper class\n",
    "validation_preds = cnn_model.predict(X_test_cnn)\n",
    "validation_preds = np.round(validation_preds)\n",
    "\n",
    "# calculate metrics\n",
    "precision = precision_score(y_test_cnn, validation_preds, average='weighted')\n",
    "recall = recall_score(y_test_cnn, validation_preds, average='weighted')\n",
    "score = f1_score(y_test_cnn, validation_preds, average='weighted')\n",
    "\n",
    "print(\"Precision score: {}\".format(precision))\n",
    "print(\"Recall score: {}\".format(recall))\n",
    "print(\"F1 score: {}\".format(score))\n"
   ]
  },
  {
   "cell_type": "code",
   "execution_count": 123,
   "metadata": {},
   "outputs": [
    {
     "data": {
      "text/plain": [
       "<AxesSubplot:>"
      ]
     },
     "execution_count": 123,
     "metadata": {},
     "output_type": "execute_result"
    },
    {
     "data": {
      "image/png": "[encoded data removed]",
      "text/plain": [
       "<Figure size 1080x504 with 2 Axes>"
      ]
     },
     "metadata": {},
     "output_type": "display_data"
    }
   ],
   "source": [
    "cfm = confusion_matrix(validation_preds.argmax(axis=1), y_test_cnn.argmax(axis=1))\n",
    "plt.figure(figsize=(15,7))\n",
    "sns.heatmap(cfm,cmap=sns.color_palette(\"mako\", as_cmap=True), annot=True,fmt='',\n",
    "            xticklabels=['good connection', 'attack'], yticklabels=['good connection', 'attack'])"
   ]
  },
  {
   "cell_type": "code",
   "execution_count": 126,
   "metadata": {},
   "outputs": [
    {
     "data": {
      "image/png": "[encoded data removed]",
      "text/plain": [
       "<IPython.core.display.Image object>"
      ]
     },
     "execution_count": 126,
     "metadata": {},
     "output_type": "execute_result"
    }
   ],
   "source": [
    "Image('loss.png')"
   ]
  },
  {
   "cell_type": "code",
   "execution_count": 127,
   "metadata": {},
   "outputs": [
    {
     "data": {
      "image/png": "[encoded data removed]",
      "text/plain": [
       "<IPython.core.display.Image object>"
      ]
     },
     "execution_count": 127,
     "metadata": {},
     "output_type": "execute_result"
    }
   ],
   "source": [
    "Image('val_loss.png')"
   ]
  },
  {
   "cell_type": "code",
   "execution_count": null,
   "metadata": {},
   "outputs": [],
   "source": []
  }
 ],
 "metadata": {
  "kernelspec": {
   "display_name": "CSC_180",
   "language": "python",
   "name": "csc_180"
  },
  "language_info": {
   "codemirror_mode": {
    "name": "ipython",
    "version": 3
   },
   "file_extension": ".py",
   "mimetype": "text/x-python",
   "name": "python",
   "nbconvert_exporter": "python",
   "pygments_lexer": "ipython3",
   "version": "3.7.9"
  }
 },
 "nbformat": 4,
 "nbformat_minor": 4
}
